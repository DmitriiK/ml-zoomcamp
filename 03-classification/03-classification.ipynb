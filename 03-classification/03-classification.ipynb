{
 "cells": [
  {
   "cell_type": "markdown",
   "id": "ad674028",
   "metadata": {},
   "source": [
    "# 3. Machine Learning for Classification\n",
    "\n",
    "### Dataset\n",
    "\n",
    "In this homework, we will use the Car price dataset. Download it from [here](https://raw.githubusercontent.com/alexeygrigorev/mlbookcamp-code/master/chapter-02-car-price/data.csv).\n",
    "https://raw.githubusercontent.com/alexeygrigorev/mlbookcamp-code/master/chapter-02-car-price/data.csv"
   ]
  },
  {
   "cell_type": "markdown",
   "id": "a75153c9",
   "metadata": {},
   "source": [
    "## 3.2 Data preparation\n",
    "\n",
    "* Download the data, read it with pandas\n",
    "* Look at the data\n",
    "* Make column names and values look uniform\n",
    "* Check if all the columns read correctly\n",
    "* Check if the churn variable needs any preparation"
   ]
  },
  {
   "cell_type": "code",
   "execution_count": 1,
   "id": "d44673fd",
   "metadata": {},
   "outputs": [],
   "source": [
    "import pandas as pd\n",
    "import numpy as np\n",
    "\n",
    "import matplotlib.pyplot as plt"
   ]
  },
  {
   "cell_type": "code",
   "execution_count": 2,
   "id": "8c8350a1",
   "metadata": {},
   "outputs": [],
   "source": [
    "data = 'https://raw.githubusercontent.com/alexeygrigorev/mlbookcamp-code/master/chapter-02-car-price/data.csv'"
   ]
  },
  {
   "cell_type": "code",
   "execution_count": 3,
   "id": "6359263e",
   "metadata": {
    "scrolled": true
   },
   "outputs": [
    {
     "name": "stdout",
     "output_type": "stream",
     "text": [
      "--2023-09-30 18:14:34--  https://raw.githubusercontent.com/alexeygrigorev/mlbookcamp-code/master/chapter-02-car-price/data.csv\n",
      "Resolving raw.githubusercontent.com (raw.githubusercontent.com)... 185.199.108.133, 185.199.109.133, 185.199.110.133, ...\n",
      "Connecting to raw.githubusercontent.com (raw.githubusercontent.com)|185.199.108.133|:443... connected.\n",
      "HTTP request sent, awaiting response... 200 OK\n",
      "Length: 1475504 (1.4M) [text/plain]\n",
      "Saving to: ‘car_price.csv’\n",
      "\n",
      "car_price.csv       100%[===================>]   1.41M  2.32MB/s    in 0.6s    \n",
      "\n",
      "2023-09-30 18:14:36 (2.32 MB/s) - ‘car_price.csv’ saved [1475504/1475504]\n",
      "\n"
     ]
    }
   ],
   "source": [
    "!wget $data -O car_price.csv "
   ]
  },
  {
   "cell_type": "code",
   "execution_count": 58,
   "id": "7231239d",
   "metadata": {
    "scrolled": false
   },
   "outputs": [
    {
     "data": {
      "text/html": [
       "<div>\n",
       "<style scoped>\n",
       "    .dataframe tbody tr th:only-of-type {\n",
       "        vertical-align: middle;\n",
       "    }\n",
       "\n",
       "    .dataframe tbody tr th {\n",
       "        vertical-align: top;\n",
       "    }\n",
       "\n",
       "    .dataframe thead th {\n",
       "        text-align: right;\n",
       "    }\n",
       "</style>\n",
       "<table border=\"1\" class=\"dataframe\">\n",
       "  <thead>\n",
       "    <tr style=\"text-align: right;\">\n",
       "      <th></th>\n",
       "      <th>Make</th>\n",
       "      <th>Model</th>\n",
       "      <th>Year</th>\n",
       "      <th>Engine HP</th>\n",
       "      <th>Engine Cylinders</th>\n",
       "      <th>Transmission Type</th>\n",
       "      <th>Vehicle Style</th>\n",
       "      <th>highway MPG</th>\n",
       "      <th>city mpg</th>\n",
       "      <th>MSRP</th>\n",
       "    </tr>\n",
       "  </thead>\n",
       "  <tbody>\n",
       "    <tr>\n",
       "      <th>0</th>\n",
       "      <td>BMW</td>\n",
       "      <td>1 Series M</td>\n",
       "      <td>2011</td>\n",
       "      <td>335.0</td>\n",
       "      <td>6.0</td>\n",
       "      <td>MANUAL</td>\n",
       "      <td>Coupe</td>\n",
       "      <td>26</td>\n",
       "      <td>19</td>\n",
       "      <td>46135</td>\n",
       "    </tr>\n",
       "    <tr>\n",
       "      <th>1</th>\n",
       "      <td>BMW</td>\n",
       "      <td>1 Series</td>\n",
       "      <td>2011</td>\n",
       "      <td>300.0</td>\n",
       "      <td>6.0</td>\n",
       "      <td>MANUAL</td>\n",
       "      <td>Convertible</td>\n",
       "      <td>28</td>\n",
       "      <td>19</td>\n",
       "      <td>40650</td>\n",
       "    </tr>\n",
       "    <tr>\n",
       "      <th>2</th>\n",
       "      <td>BMW</td>\n",
       "      <td>1 Series</td>\n",
       "      <td>2011</td>\n",
       "      <td>300.0</td>\n",
       "      <td>6.0</td>\n",
       "      <td>MANUAL</td>\n",
       "      <td>Coupe</td>\n",
       "      <td>28</td>\n",
       "      <td>20</td>\n",
       "      <td>36350</td>\n",
       "    </tr>\n",
       "    <tr>\n",
       "      <th>3</th>\n",
       "      <td>BMW</td>\n",
       "      <td>1 Series</td>\n",
       "      <td>2011</td>\n",
       "      <td>230.0</td>\n",
       "      <td>6.0</td>\n",
       "      <td>MANUAL</td>\n",
       "      <td>Coupe</td>\n",
       "      <td>28</td>\n",
       "      <td>18</td>\n",
       "      <td>29450</td>\n",
       "    </tr>\n",
       "    <tr>\n",
       "      <th>4</th>\n",
       "      <td>BMW</td>\n",
       "      <td>1 Series</td>\n",
       "      <td>2011</td>\n",
       "      <td>230.0</td>\n",
       "      <td>6.0</td>\n",
       "      <td>MANUAL</td>\n",
       "      <td>Convertible</td>\n",
       "      <td>28</td>\n",
       "      <td>18</td>\n",
       "      <td>34500</td>\n",
       "    </tr>\n",
       "  </tbody>\n",
       "</table>\n",
       "</div>"
      ],
      "text/plain": [
       "  Make       Model  Year  Engine HP  Engine Cylinders Transmission Type  \\\n",
       "0  BMW  1 Series M  2011      335.0               6.0            MANUAL   \n",
       "1  BMW    1 Series  2011      300.0               6.0            MANUAL   \n",
       "2  BMW    1 Series  2011      300.0               6.0            MANUAL   \n",
       "3  BMW    1 Series  2011      230.0               6.0            MANUAL   \n",
       "4  BMW    1 Series  2011      230.0               6.0            MANUAL   \n",
       "\n",
       "  Vehicle Style  highway MPG  city mpg   MSRP  \n",
       "0         Coupe           26        19  46135  \n",
       "1   Convertible           28        19  40650  \n",
       "2         Coupe           28        20  36350  \n",
       "3         Coupe           28        18  29450  \n",
       "4   Convertible           28        18  34500  "
      ]
     },
     "execution_count": 58,
     "metadata": {},
     "output_type": "execute_result"
    }
   ],
   "source": [
    "fc = [\n",
    "    'Make',\n",
    "    'Model',\n",
    "    'Year',\n",
    "    'Engine HP',\n",
    "    'Engine Cylinders',\n",
    "    'Transmission Type',\n",
    "    'Vehicle Style',\n",
    "    'highway MPG',\n",
    "    'city mpg'\n",
    "]\n",
    "all_c = fc + ['MSRP']\n",
    "df = pd.read_csv('car_price.csv', usecols= all_c)\n",
    "df.head()"
   ]
  },
  {
   "cell_type": "markdown",
   "id": "990ff02b",
   "metadata": {},
   "source": [
    "We'll keep working with the MSRP variable, and we'll transform it to a classification task.\n",
    "Features\n",
    "\n",
    "For the rest of the homework, you'll need to use only these columns:\n",
    "\n",
    "    Make,\n",
    "    Model,\n",
    "    Year,\n",
    "    Engine HP,\n",
    "    Engine Cylinders,\n",
    "    Transmission Type,\n",
    "    Vehicle Style,\n",
    "    highway MPG,\n",
    "    city mpg\n",
    "    \n",
    "Data preparation\n",
    "Select only the features from above and transform their names using next line:\n",
    "\n",
    "data.columns = data.columns.str.replace(' ', '_').str.lower()\n",
    "\n",
    "Fill in the missing values of the selected features with 0.\n",
    "Rename MSRP variable to price.\n"
   ]
  },
  {
   "cell_type": "code",
   "execution_count": 59,
   "id": "12dcbf68",
   "metadata": {},
   "outputs": [],
   "source": [
    "df = df.rename(columns={'MSRP':'price'})"
   ]
  },
  {
   "cell_type": "code",
   "execution_count": 60,
   "id": "6e377f5d",
   "metadata": {},
   "outputs": [],
   "source": [
    "df.columns = df.columns.str.lower().str.replace(' ', '_')\n",
    "\n",
    "categorical_columns = list(df.dtypes[df.dtypes == 'object'].index)\n",
    "\n",
    "for c in categorical_columns:\n",
    "    df[c] = df[c].str.lower().str.replace(' ', '_')\n",
    "\n"
   ]
  },
  {
   "cell_type": "code",
   "execution_count": 61,
   "id": "3baf13a9",
   "metadata": {},
   "outputs": [],
   "source": [
    "df.fillna(0, inplace = True)"
   ]
  },
  {
   "cell_type": "code",
   "execution_count": 62,
   "id": "bc59f49e",
   "metadata": {
    "scrolled": true
   },
   "outputs": [
    {
     "data": {
      "text/html": [
       "<div>\n",
       "<style scoped>\n",
       "    .dataframe tbody tr th:only-of-type {\n",
       "        vertical-align: middle;\n",
       "    }\n",
       "\n",
       "    .dataframe tbody tr th {\n",
       "        vertical-align: top;\n",
       "    }\n",
       "\n",
       "    .dataframe thead th {\n",
       "        text-align: right;\n",
       "    }\n",
       "</style>\n",
       "<table border=\"1\" class=\"dataframe\">\n",
       "  <thead>\n",
       "    <tr style=\"text-align: right;\">\n",
       "      <th></th>\n",
       "      <th>0</th>\n",
       "      <th>1</th>\n",
       "      <th>2</th>\n",
       "      <th>3</th>\n",
       "      <th>4</th>\n",
       "    </tr>\n",
       "  </thead>\n",
       "  <tbody>\n",
       "    <tr>\n",
       "      <th>make</th>\n",
       "      <td>bmw</td>\n",
       "      <td>bmw</td>\n",
       "      <td>bmw</td>\n",
       "      <td>bmw</td>\n",
       "      <td>bmw</td>\n",
       "    </tr>\n",
       "    <tr>\n",
       "      <th>model</th>\n",
       "      <td>1_series_m</td>\n",
       "      <td>1_series</td>\n",
       "      <td>1_series</td>\n",
       "      <td>1_series</td>\n",
       "      <td>1_series</td>\n",
       "    </tr>\n",
       "    <tr>\n",
       "      <th>year</th>\n",
       "      <td>2011</td>\n",
       "      <td>2011</td>\n",
       "      <td>2011</td>\n",
       "      <td>2011</td>\n",
       "      <td>2011</td>\n",
       "    </tr>\n",
       "    <tr>\n",
       "      <th>engine_hp</th>\n",
       "      <td>335.0</td>\n",
       "      <td>300.0</td>\n",
       "      <td>300.0</td>\n",
       "      <td>230.0</td>\n",
       "      <td>230.0</td>\n",
       "    </tr>\n",
       "    <tr>\n",
       "      <th>engine_cylinders</th>\n",
       "      <td>6.0</td>\n",
       "      <td>6.0</td>\n",
       "      <td>6.0</td>\n",
       "      <td>6.0</td>\n",
       "      <td>6.0</td>\n",
       "    </tr>\n",
       "    <tr>\n",
       "      <th>transmission_type</th>\n",
       "      <td>manual</td>\n",
       "      <td>manual</td>\n",
       "      <td>manual</td>\n",
       "      <td>manual</td>\n",
       "      <td>manual</td>\n",
       "    </tr>\n",
       "    <tr>\n",
       "      <th>vehicle_style</th>\n",
       "      <td>coupe</td>\n",
       "      <td>convertible</td>\n",
       "      <td>coupe</td>\n",
       "      <td>coupe</td>\n",
       "      <td>convertible</td>\n",
       "    </tr>\n",
       "    <tr>\n",
       "      <th>highway_mpg</th>\n",
       "      <td>26</td>\n",
       "      <td>28</td>\n",
       "      <td>28</td>\n",
       "      <td>28</td>\n",
       "      <td>28</td>\n",
       "    </tr>\n",
       "    <tr>\n",
       "      <th>city_mpg</th>\n",
       "      <td>19</td>\n",
       "      <td>19</td>\n",
       "      <td>20</td>\n",
       "      <td>18</td>\n",
       "      <td>18</td>\n",
       "    </tr>\n",
       "    <tr>\n",
       "      <th>price</th>\n",
       "      <td>46135</td>\n",
       "      <td>40650</td>\n",
       "      <td>36350</td>\n",
       "      <td>29450</td>\n",
       "      <td>34500</td>\n",
       "    </tr>\n",
       "  </tbody>\n",
       "</table>\n",
       "</div>"
      ],
      "text/plain": [
       "                            0            1         2         3            4\n",
       "make                      bmw          bmw       bmw       bmw          bmw\n",
       "model              1_series_m     1_series  1_series  1_series     1_series\n",
       "year                     2011         2011      2011      2011         2011\n",
       "engine_hp               335.0        300.0     300.0     230.0        230.0\n",
       "engine_cylinders          6.0          6.0       6.0       6.0          6.0\n",
       "transmission_type      manual       manual    manual    manual       manual\n",
       "vehicle_style           coupe  convertible     coupe     coupe  convertible\n",
       "highway_mpg                26           28        28        28           28\n",
       "city_mpg                   19           19        20        18           18\n",
       "price                   46135        40650     36350     29450        34500"
      ]
     },
     "execution_count": 62,
     "metadata": {},
     "output_type": "execute_result"
    }
   ],
   "source": [
    "df.head().T"
   ]
  },
  {
   "cell_type": "markdown",
   "id": "a610ced2",
   "metadata": {},
   "source": [
    "\n",
    "### Question 1\n",
    "\n",
    "What is the most frequent observation (mode) for the column `transmission_type`?\n",
    "\n",
    "- `AUTOMATIC` - this one\n",
    "- `MANUAL`\n",
    "- `AUTOMATED_MANUAL`\n",
    "- `DIRECT_DRIVE`"
   ]
  },
  {
   "cell_type": "code",
   "execution_count": 63,
   "id": "a29d4e5c",
   "metadata": {
    "scrolled": true
   },
   "outputs": [
    {
     "data": {
      "text/plain": [
       "transmission_type\n",
       "automatic           8266\n",
       "manual              2935\n",
       "automated_manual     626\n",
       "direct_drive          68\n",
       "unknown               19\n",
       "dtype: int64"
      ]
     },
     "execution_count": 63,
     "metadata": {},
     "output_type": "execute_result"
    }
   ],
   "source": [
    "df.groupby('transmission_type').size().sort_values(ascending=False)"
   ]
  },
  {
   "cell_type": "markdown",
   "id": "4f5f7ad5",
   "metadata": {},
   "source": [
    "### Question 2\n",
    "\n",
    "Create the [correlation matrix](https://www.google.com/search?q=correlation+matrix) for the numerical features of your dataset. \n",
    "In a correlation matrix, you compute the correlation coefficient between every pair of features in the dataset.\n",
    "\n",
    "What are the two features that have the biggest correlation in this dataset?\n",
    "\n",
    "- `engine_hp` and `year`\n",
    "- `engine_hp` and `engine_cylinders`\n",
    "- `highway_mpg` and `engine_cylinders`\n",
    "- `highway_mpg` and `city_mpg\n",
    "\n",
    "Answer: `highway_mpg` and `city_mpg"
   ]
  },
  {
   "cell_type": "code",
   "execution_count": 113,
   "id": "aac7d803",
   "metadata": {},
   "outputs": [
    {
     "name": "stdout",
     "output_type": "stream",
     "text": [
      "                  engine_hp  engine_cylinders  highway_mpg  city_mpg      year\n",
      "engine_hp          1.000000          0.774851    -0.415707 -0.424918  0.338714\n",
      "engine_cylinders   0.774851          1.000000    -0.614541 -0.587306 -0.040708\n",
      "highway_mpg       -0.415707         -0.614541     1.000000  0.886829  0.258240\n",
      "city_mpg          -0.424918         -0.587306     0.886829  1.000000  0.198171\n",
      "year               0.338714         -0.040708     0.258240  0.198171  1.000000\n"
     ]
    }
   ],
   "source": [
    "numerical = ['engine_hp', 'engine_cylinders', 'highway_mpg', 'city_mpg', 'year']\n",
    "df_corr=df[numerical]\n",
    "print(df_corr.corr())"
   ]
  },
  {
   "cell_type": "markdown",
   "id": "db07781b",
   "metadata": {},
   "source": [
    "### Make `price` binary\n",
    "\n",
    "* Now we need to turn the `price` variable from numeric into a binary format.\n",
    "* Let's create a variable `above_average` which is `1` if the `price` is above its mean value and `0` otherwise.\n",
    "\n",
    "### Split the data\n",
    "\n",
    "* Split your data in train/val/test sets with 60%/20%/20% distribution.\n",
    "* Use Scikit-Learn for that (the `train_test_split` function) and set the seed to `42`.\n",
    "* Make sure that the target value (`above_average`) is not in your dataframe.\n",
    "\n",
    "    "
   ]
  },
  {
   "cell_type": "code",
   "execution_count": 74,
   "id": "62fb749c",
   "metadata": {},
   "outputs": [
    {
     "data": {
      "text/html": [
       "<div>\n",
       "<style scoped>\n",
       "    .dataframe tbody tr th:only-of-type {\n",
       "        vertical-align: middle;\n",
       "    }\n",
       "\n",
       "    .dataframe tbody tr th {\n",
       "        vertical-align: top;\n",
       "    }\n",
       "\n",
       "    .dataframe thead th {\n",
       "        text-align: right;\n",
       "    }\n",
       "</style>\n",
       "<table border=\"1\" class=\"dataframe\">\n",
       "  <thead>\n",
       "    <tr style=\"text-align: right;\">\n",
       "      <th></th>\n",
       "      <th>make</th>\n",
       "      <th>model</th>\n",
       "      <th>year</th>\n",
       "      <th>engine_hp</th>\n",
       "      <th>engine_cylinders</th>\n",
       "      <th>transmission_type</th>\n",
       "      <th>vehicle_style</th>\n",
       "      <th>highway_mpg</th>\n",
       "      <th>city_mpg</th>\n",
       "      <th>price</th>\n",
       "      <th>above_average</th>\n",
       "    </tr>\n",
       "  </thead>\n",
       "  <tbody>\n",
       "    <tr>\n",
       "      <th>0</th>\n",
       "      <td>bmw</td>\n",
       "      <td>1_series_m</td>\n",
       "      <td>2011</td>\n",
       "      <td>335.0</td>\n",
       "      <td>6.0</td>\n",
       "      <td>manual</td>\n",
       "      <td>coupe</td>\n",
       "      <td>26</td>\n",
       "      <td>19</td>\n",
       "      <td>46135</td>\n",
       "      <td>1</td>\n",
       "    </tr>\n",
       "    <tr>\n",
       "      <th>1</th>\n",
       "      <td>bmw</td>\n",
       "      <td>1_series</td>\n",
       "      <td>2011</td>\n",
       "      <td>300.0</td>\n",
       "      <td>6.0</td>\n",
       "      <td>manual</td>\n",
       "      <td>convertible</td>\n",
       "      <td>28</td>\n",
       "      <td>19</td>\n",
       "      <td>40650</td>\n",
       "      <td>1</td>\n",
       "    </tr>\n",
       "    <tr>\n",
       "      <th>2</th>\n",
       "      <td>bmw</td>\n",
       "      <td>1_series</td>\n",
       "      <td>2011</td>\n",
       "      <td>300.0</td>\n",
       "      <td>6.0</td>\n",
       "      <td>manual</td>\n",
       "      <td>coupe</td>\n",
       "      <td>28</td>\n",
       "      <td>20</td>\n",
       "      <td>36350</td>\n",
       "      <td>0</td>\n",
       "    </tr>\n",
       "    <tr>\n",
       "      <th>3</th>\n",
       "      <td>bmw</td>\n",
       "      <td>1_series</td>\n",
       "      <td>2011</td>\n",
       "      <td>230.0</td>\n",
       "      <td>6.0</td>\n",
       "      <td>manual</td>\n",
       "      <td>coupe</td>\n",
       "      <td>28</td>\n",
       "      <td>18</td>\n",
       "      <td>29450</td>\n",
       "      <td>0</td>\n",
       "    </tr>\n",
       "    <tr>\n",
       "      <th>4</th>\n",
       "      <td>bmw</td>\n",
       "      <td>1_series</td>\n",
       "      <td>2011</td>\n",
       "      <td>230.0</td>\n",
       "      <td>6.0</td>\n",
       "      <td>manual</td>\n",
       "      <td>convertible</td>\n",
       "      <td>28</td>\n",
       "      <td>18</td>\n",
       "      <td>34500</td>\n",
       "      <td>0</td>\n",
       "    </tr>\n",
       "  </tbody>\n",
       "</table>\n",
       "</div>"
      ],
      "text/plain": [
       "  make       model  year  engine_hp  engine_cylinders transmission_type  \\\n",
       "0  bmw  1_series_m  2011      335.0               6.0            manual   \n",
       "1  bmw    1_series  2011      300.0               6.0            manual   \n",
       "2  bmw    1_series  2011      300.0               6.0            manual   \n",
       "3  bmw    1_series  2011      230.0               6.0            manual   \n",
       "4  bmw    1_series  2011      230.0               6.0            manual   \n",
       "\n",
       "  vehicle_style  highway_mpg  city_mpg  price  above_average  \n",
       "0         coupe           26        19  46135              1  \n",
       "1   convertible           28        19  40650              1  \n",
       "2         coupe           28        20  36350              0  \n",
       "3         coupe           28        18  29450              0  \n",
       "4   convertible           28        18  34500              0  "
      ]
     },
     "execution_count": 74,
     "metadata": {},
     "output_type": "execute_result"
    }
   ],
   "source": [
    "avg_price = df.price.mean()\n",
    "avg_price\n",
    "df['above_average'] = np.where(df.price>avg_price, 1, 0)\n",
    "df.head()"
   ]
  },
  {
   "cell_type": "code",
   "execution_count": 68,
   "id": "c5249ba9",
   "metadata": {},
   "outputs": [],
   "source": [
    "from sklearn.model_selection import train_test_split"
   ]
  },
  {
   "cell_type": "code",
   "execution_count": 75,
   "id": "936e74de",
   "metadata": {},
   "outputs": [],
   "source": [
    "df_full_train, df_test = train_test_split(df, test_size=0.2, random_state=42)\n",
    "df_train, df_val = train_test_split(df_full_train, test_size=0.25, random_state=42)"
   ]
  },
  {
   "cell_type": "code",
   "execution_count": 76,
   "id": "3e30e840",
   "metadata": {},
   "outputs": [
    {
     "data": {
      "text/plain": [
       "(7148, 2383, 2383)"
      ]
     },
     "execution_count": 76,
     "metadata": {},
     "output_type": "execute_result"
    }
   ],
   "source": [
    "len(df_train), len(df_val), len(df_test)"
   ]
  },
  {
   "cell_type": "code",
   "execution_count": 77,
   "id": "bd28cc35",
   "metadata": {},
   "outputs": [],
   "source": [
    "df_train = df_train.reset_index(drop=True)\n",
    "df_val = df_val.reset_index(drop=True)\n",
    "df_test = df_test.reset_index(drop=True)"
   ]
  },
  {
   "cell_type": "code",
   "execution_count": null,
   "id": "8c5c0c4f",
   "metadata": {},
   "outputs": [],
   "source": []
  },
  {
   "cell_type": "markdown",
   "id": "8ae3528d",
   "metadata": {},
   "source": [
    "\n",
    "### Question 3\n",
    "\n",
    "* Calculate the mutual information score between `above_average` and other categorical variables in our dataset. \n",
    "  Use the training set only.\n",
    "* Round the scores to 2 decimals using `round(score, 2)`.\n",
    "\n",
    "Mutual information - concept from information theory, it tells us how much \n",
    "we can learn about one variable if we know the value of another\n",
    "\n",
    "* https://en.wikipedia.org/wiki/Mutual_information\n",
    "\n",
    "Which of these variables has the lowest mutual information score?\n",
    "  \n",
    "- `make`\n",
    "- `model`\n",
    "- `transmission_type`\n",
    "- `vehicle_style`\n",
    "\n",
    "Answer: transmission_type    "
   ]
  },
  {
   "cell_type": "code",
   "execution_count": 82,
   "id": "98b8750c",
   "metadata": {},
   "outputs": [],
   "source": [
    "categorical = [\n",
    "    'make',\n",
    "    'model',\n",
    "    'transmission_type',\n",
    "    'vehicle_style'\n",
    "]"
   ]
  },
  {
   "cell_type": "code",
   "execution_count": 83,
   "id": "e071f1a6",
   "metadata": {},
   "outputs": [
    {
     "data": {
      "text/plain": [
       "make                  48\n",
       "model                902\n",
       "transmission_type      5\n",
       "vehicle_style         16\n",
       "dtype: int64"
      ]
     },
     "execution_count": 83,
     "metadata": {},
     "output_type": "execute_result"
    }
   ],
   "source": [
    "df_full_train[categorical].nunique()"
   ]
  },
  {
   "cell_type": "code",
   "execution_count": 88,
   "id": "ad54ca8d",
   "metadata": {},
   "outputs": [],
   "source": [
    "from sklearn.metrics import mutual_info_score\n",
    "\n"
   ]
  },
  {
   "cell_type": "code",
   "execution_count": 89,
   "id": "6c082444",
   "metadata": {},
   "outputs": [],
   "source": [
    "def mutual_info_above_average_score(series):\n",
    "    return mutual_info_score(series, df_full_train.above_average)"
   ]
  },
  {
   "cell_type": "code",
   "execution_count": 90,
   "id": "29de7faf",
   "metadata": {},
   "outputs": [
    {
     "data": {
      "text/plain": [
       "model                0.460994\n",
       "make                 0.238724\n",
       "vehicle_style        0.083390\n",
       "transmission_type    0.020884\n",
       "dtype: float64"
      ]
     },
     "execution_count": 90,
     "metadata": {},
     "output_type": "execute_result"
    }
   ],
   "source": [
    "mi = df_full_train[categorical].apply(mutual_info_churn_score)\n",
    "mi.sort_values(ascending=False)"
   ]
  },
  {
   "cell_type": "markdown",
   "id": "be36c385",
   "metadata": {},
   "source": [
    "\n",
    "### Question 4\n",
    "\n",
    "* Now let's train a logistic regression.\n",
    "* Remember that we have several categorical variables in the dataset. Include them using one-hot encoding.\n",
    "* Fit the model on the training dataset.\n",
    "    - To make sure the results are reproducible across different versions of Scikit-Learn, fit the model with these parameters:\n",
    "    - `model = LogisticRegression(solver='liblinear', C=10, max_iter=1000, random_state=42)`\n",
    "* Calculate the accuracy on the validation dataset and round it to 2 decimal digits.\n",
    "\n",
    "What accuracy did you get?\n",
    "\n",
    "- 0.60\n",
    "- 0.72\n",
    "- 0.84\n",
    "- 0.95\n",
    "\n",
    "Answer: 0.95\n"
   ]
  },
  {
   "cell_type": "code",
   "execution_count": 91,
   "id": "e04b69b3",
   "metadata": {},
   "outputs": [],
   "source": [
    "from sklearn.feature_extraction import DictVectorizer\n",
    "from sklearn.linear_model import LogisticRegression"
   ]
  },
  {
   "cell_type": "code",
   "execution_count": 131,
   "id": "08886470",
   "metadata": {},
   "outputs": [],
   "source": [
    "dv = DictVectorizer(sparse=False)\n",
    "\n",
    "train_dict = df_train[categorical + numerical].to_dict(orient='records')\n",
    "X_train = dv.fit_transform(train_dict)\n",
    "\n",
    "val_dict = df_val[categorical + numerical].to_dict(orient='records')\n",
    "X_val = dv.transform(val_dict)"
   ]
  },
  {
   "cell_type": "code",
   "execution_count": 132,
   "id": "4fd767cb",
   "metadata": {},
   "outputs": [
    {
     "data": {
      "text/html": [
       "<style>#sk-container-id-3 {color: black;}#sk-container-id-3 pre{padding: 0;}#sk-container-id-3 div.sk-toggleable {background-color: white;}#sk-container-id-3 label.sk-toggleable__label {cursor: pointer;display: block;width: 100%;margin-bottom: 0;padding: 0.3em;box-sizing: border-box;text-align: center;}#sk-container-id-3 label.sk-toggleable__label-arrow:before {content: \"▸\";float: left;margin-right: 0.25em;color: #696969;}#sk-container-id-3 label.sk-toggleable__label-arrow:hover:before {color: black;}#sk-container-id-3 div.sk-estimator:hover label.sk-toggleable__label-arrow:before {color: black;}#sk-container-id-3 div.sk-toggleable__content {max-height: 0;max-width: 0;overflow: hidden;text-align: left;background-color: #f0f8ff;}#sk-container-id-3 div.sk-toggleable__content pre {margin: 0.2em;color: black;border-radius: 0.25em;background-color: #f0f8ff;}#sk-container-id-3 input.sk-toggleable__control:checked~div.sk-toggleable__content {max-height: 200px;max-width: 100%;overflow: auto;}#sk-container-id-3 input.sk-toggleable__control:checked~label.sk-toggleable__label-arrow:before {content: \"▾\";}#sk-container-id-3 div.sk-estimator input.sk-toggleable__control:checked~label.sk-toggleable__label {background-color: #d4ebff;}#sk-container-id-3 div.sk-label input.sk-toggleable__control:checked~label.sk-toggleable__label {background-color: #d4ebff;}#sk-container-id-3 input.sk-hidden--visually {border: 0;clip: rect(1px 1px 1px 1px);clip: rect(1px, 1px, 1px, 1px);height: 1px;margin: -1px;overflow: hidden;padding: 0;position: absolute;width: 1px;}#sk-container-id-3 div.sk-estimator {font-family: monospace;background-color: #f0f8ff;border: 1px dotted black;border-radius: 0.25em;box-sizing: border-box;margin-bottom: 0.5em;}#sk-container-id-3 div.sk-estimator:hover {background-color: #d4ebff;}#sk-container-id-3 div.sk-parallel-item::after {content: \"\";width: 100%;border-bottom: 1px solid gray;flex-grow: 1;}#sk-container-id-3 div.sk-label:hover label.sk-toggleable__label {background-color: #d4ebff;}#sk-container-id-3 div.sk-serial::before {content: \"\";position: absolute;border-left: 1px solid gray;box-sizing: border-box;top: 0;bottom: 0;left: 50%;z-index: 0;}#sk-container-id-3 div.sk-serial {display: flex;flex-direction: column;align-items: center;background-color: white;padding-right: 0.2em;padding-left: 0.2em;position: relative;}#sk-container-id-3 div.sk-item {position: relative;z-index: 1;}#sk-container-id-3 div.sk-parallel {display: flex;align-items: stretch;justify-content: center;background-color: white;position: relative;}#sk-container-id-3 div.sk-item::before, #sk-container-id-3 div.sk-parallel-item::before {content: \"\";position: absolute;border-left: 1px solid gray;box-sizing: border-box;top: 0;bottom: 0;left: 50%;z-index: -1;}#sk-container-id-3 div.sk-parallel-item {display: flex;flex-direction: column;z-index: 1;position: relative;background-color: white;}#sk-container-id-3 div.sk-parallel-item:first-child::after {align-self: flex-end;width: 50%;}#sk-container-id-3 div.sk-parallel-item:last-child::after {align-self: flex-start;width: 50%;}#sk-container-id-3 div.sk-parallel-item:only-child::after {width: 0;}#sk-container-id-3 div.sk-dashed-wrapped {border: 1px dashed gray;margin: 0 0.4em 0.5em 0.4em;box-sizing: border-box;padding-bottom: 0.4em;background-color: white;}#sk-container-id-3 div.sk-label label {font-family: monospace;font-weight: bold;display: inline-block;line-height: 1.2em;}#sk-container-id-3 div.sk-label-container {text-align: center;}#sk-container-id-3 div.sk-container {/* jupyter's `normalize.less` sets `[hidden] { display: none; }` but bootstrap.min.css set `[hidden] { display: none !important; }` so we also need the `!important` here to be able to override the default hidden behavior on the sphinx rendered scikit-learn.org. See: https://github.com/scikit-learn/scikit-learn/issues/21755 */display: inline-block !important;position: relative;}#sk-container-id-3 div.sk-text-repr-fallback {display: none;}</style><div id=\"sk-container-id-3\" class=\"sk-top-container\"><div class=\"sk-text-repr-fallback\"><pre>LogisticRegression(C=10, max_iter=1000, random_state=42, solver=&#x27;liblinear&#x27;)</pre><b>In a Jupyter environment, please rerun this cell to show the HTML representation or trust the notebook. <br />On GitHub, the HTML representation is unable to render, please try loading this page with nbviewer.org.</b></div><div class=\"sk-container\" hidden><div class=\"sk-item\"><div class=\"sk-estimator sk-toggleable\"><input class=\"sk-toggleable__control sk-hidden--visually\" id=\"sk-estimator-id-3\" type=\"checkbox\" checked><label for=\"sk-estimator-id-3\" class=\"sk-toggleable__label sk-toggleable__label-arrow\">LogisticRegression</label><div class=\"sk-toggleable__content\"><pre>LogisticRegression(C=10, max_iter=1000, random_state=42, solver=&#x27;liblinear&#x27;)</pre></div></div></div></div></div>"
      ],
      "text/plain": [
       "LogisticRegression(C=10, max_iter=1000, random_state=42, solver='liblinear')"
      ]
     },
     "execution_count": 132,
     "metadata": {},
     "output_type": "execute_result"
    }
   ],
   "source": [
    "\n",
    "model = LogisticRegression(solver='liblinear', C=10, max_iter=1000, random_state=42)\n",
    "model.fit(X_train, y_train)"
   ]
  },
  {
   "cell_type": "code",
   "execution_count": 133,
   "id": "3cc982a1",
   "metadata": {},
   "outputs": [
    {
     "data": {
      "text/plain": [
       "-0.09947066871642177"
      ]
     },
     "execution_count": 133,
     "metadata": {},
     "output_type": "execute_result"
    }
   ],
   "source": [
    "model.intercept_[0]"
   ]
  },
  {
   "cell_type": "code",
   "execution_count": 134,
   "id": "e7171be7",
   "metadata": {
    "scrolled": false
   },
   "outputs": [
    {
     "data": {
      "text/plain": [
       "array([ 1.900e-02, -7.900e-02,  3.400e-02,  8.000e-02,  1.006e+00,\n",
       "        6.840e-01,  2.520e-01,  2.342e+00,  8.800e-02,  2.000e+00,\n",
       "        0.000e+00, -4.380e-01,  1.970e+00, -1.371e+00, -1.270e+00,\n",
       "       -2.913e+00,  1.500e-01, -2.160e-01, -1.401e+00,  1.920e-01,\n",
       "       -7.370e-01, -1.210e+00, -9.000e-03, -2.117e+00,  1.460e-01,\n",
       "       -1.478e+00,  4.000e-03,  1.855e+00,  1.157e+00,  1.080e+00,\n",
       "        2.432e+00,  4.490e-01,  2.000e-03, -1.146e+00,  0.000e+00,\n",
       "        1.166e+00, -1.002e+00, -8.880e-01, -6.270e-01, -5.000e-02,\n",
       "       -1.718e+00,  1.482e+00,  3.760e-01,  9.800e-01, -1.070e-01,\n",
       "        1.170e-01, -1.653e+00, -1.072e+00,  1.664e+00, -5.960e-01,\n",
       "       -6.250e-01,  9.480e-01, -8.200e-02, -1.700e-02, -4.000e-03,\n",
       "       -3.500e-01, -2.000e-03, -4.140e-01, -1.000e-03, -1.000e-03,\n",
       "       -1.000e-03, -3.000e-01, -1.360e-01, -2.400e-01, -1.270e-01,\n",
       "       -4.500e-02, -7.400e-02, -5.000e-02, -0.000e+00, -4.000e-03,\n",
       "       -4.690e-01,  6.600e-02, -5.400e-02,  5.000e-02,  5.230e-01,\n",
       "       -1.620e-01, -1.800e-02,  3.600e-02,  0.000e+00,  6.410e-01,\n",
       "        3.110e-01,  6.840e-01,  3.240e-01, -1.100e-02, -2.000e-02,\n",
       "       -7.350e-01, -4.600e-02, -1.900e-02, -1.140e-01,  1.200e-02,\n",
       "       -6.600e-02,  1.000e-03,  0.000e+00,  1.000e-02,  0.000e+00,\n",
       "        5.010e-01,  2.960e-01, -7.100e-02, -6.290e-01, -3.000e-03,\n",
       "        1.000e-03,  1.000e-03, -5.000e-03,  1.800e-01,  7.200e-02,\n",
       "       -1.300e-02, -1.000e-03, -5.000e-03,  7.900e-02, -1.000e-02,\n",
       "       -3.270e-01, -3.890e-01, -3.600e-02,  6.450e-01,  3.020e-01,\n",
       "       -2.480e-01,  2.170e-01,  2.130e-01, -4.500e-02, -7.900e-02,\n",
       "       -3.400e-02,  4.710e-01, -9.500e-02, -5.000e-03, -3.000e-02,\n",
       "       -6.800e-02, -2.200e-02, -1.390e-01, -5.060e-01, -2.100e-01,\n",
       "        6.250e-01,  6.100e-01,  2.500e-01,  9.800e-02,  8.300e-01,\n",
       "        3.000e-01, -7.000e-03, -1.000e-03, -5.790e-01, -8.500e-02,\n",
       "       -8.000e-02, -2.400e-02, -5.000e-03,  2.600e-02,  2.100e-02,\n",
       "        1.000e-03, -2.900e-02, -3.000e-03, -3.400e-02, -7.300e-02,\n",
       "        6.220e-01,  1.200e-01,  0.000e+00,  0.000e+00, -2.990e-01,\n",
       "       -1.000e-02, -4.400e-02,  0.000e+00,  9.120e-01,  2.200e-02,\n",
       "       -1.950e-01, -0.000e+00, -5.000e-03, -4.000e-03, -7.350e-01,\n",
       "       -3.400e-02, -4.000e-02,  5.520e-01, -3.770e-01,  3.720e-01,\n",
       "       -6.300e-02,  0.000e+00, -2.000e-03,  8.500e-02, -1.000e-03,\n",
       "       -1.560e-01, -1.400e-02,  6.000e-03,  0.000e+00, -1.470e-01,\n",
       "       -2.000e-03, -3.000e-03, -3.000e-03, -3.990e-01, -1.900e-02,\n",
       "       -1.340e-01, -7.320e-01, -2.000e-03,  2.520e-01,  1.260e-01,\n",
       "       -1.200e-02, -9.200e-02, -5.070e-01,  3.320e-01, -2.850e-01,\n",
       "       -1.000e-03, -3.000e-03, -1.000e-03,  1.000e-03, -3.100e-02,\n",
       "       -1.900e-02,  7.010e-01, -3.500e-02, -1.500e-02, -5.000e-03,\n",
       "       -5.000e-02, -1.320e-01,  1.500e-02,  1.170e-01, -9.000e-03,\n",
       "       -5.500e-02,  1.460e-01, -6.000e-03, -1.182e+00, -3.240e-01,\n",
       "       -9.600e-02, -1.740e-01, -1.000e+00, -2.400e-02, -2.500e-02,\n",
       "       -4.000e-03,  0.000e+00, -4.700e-02, -5.500e-02, -5.000e-03,\n",
       "        5.900e-02,  3.140e-01,  1.430e-01,  2.670e-01, -1.000e-03,\n",
       "       -1.800e-02, -6.000e-03, -1.000e+00, -9.450e-01, -7.000e-03,\n",
       "       -1.000e-03, -1.660e-01, -0.000e+00, -1.000e-03, -1.520e-01,\n",
       "        6.000e-03, -2.060e-01, -1.000e-03,  4.570e-01,  5.700e-02,\n",
       "       -5.200e-02, -6.430e-01, -6.000e-03, -6.400e-02,  8.350e-01,\n",
       "        0.000e+00,  0.000e+00,  2.000e-03,  0.000e+00,  0.000e+00,\n",
       "        0.000e+00,  0.000e+00,  0.000e+00,  0.000e+00, -1.000e-03,\n",
       "        6.100e-02, -4.800e-02, -2.000e-03, -1.000e-03,  1.660e-01,\n",
       "        1.100e-02,  1.660e-01, -2.120e-01, -1.300e-02, -3.000e-03,\n",
       "       -3.300e-02, -3.110e-01, -1.300e-02, -1.200e-02, -4.700e-02,\n",
       "       -1.000e-02,  2.070e-01,  5.960e-01,  0.000e+00,  0.000e+00,\n",
       "        0.000e+00,  8.500e-02,  1.340e-01, -3.000e-03, -2.000e-03,\n",
       "       -3.000e-03, -1.400e-02, -1.100e-02, -1.600e-02, -3.100e-02,\n",
       "       -1.760e-01, -2.200e-01, -1.000e-03, -6.600e-02, -2.500e-02,\n",
       "        0.000e+00, -3.000e-03,  3.000e-03,  0.000e+00,  1.200e-02,\n",
       "       -6.000e-03,  6.450e-01,  1.000e-03, -2.600e-02,  1.750e-01,\n",
       "       -3.700e-02,  3.900e-02,  5.690e-01,  1.311e+00, -1.000e-03,\n",
       "       -4.000e-03, -5.000e-03,  1.406e+00, -4.590e-01, -2.500e-02,\n",
       "       -4.000e-02, -1.940e-01, -4.000e-03, -2.700e-02, -1.880e-01,\n",
       "       -4.620e-01, -5.800e-02, -2.600e-02, -4.100e-02, -5.000e-03,\n",
       "       -6.000e-03, -3.000e-03, -5.800e-02, -4.000e-03, -2.200e-02,\n",
       "        8.270e-01,  8.390e-01, -5.400e-02, -9.000e-02, -3.100e-02,\n",
       "        2.590e-01, -7.200e-01, -5.310e-01, -9.100e-02,  1.420e-01,\n",
       "       -1.140e-01, -1.230e-01,  3.700e-02, -2.000e-03, -4.800e-02,\n",
       "        2.540e-01,  2.700e-02,  1.500e-02,  2.400e-02,  1.150e-01,\n",
       "       -4.000e-02, -4.400e-02, -1.000e-03,  1.390e-01, -1.200e-02,\n",
       "       -4.000e-03,  7.270e-01, -8.390e-01, -1.134e+00, -0.000e+00,\n",
       "        7.390e-01,  9.030e-01, -3.600e-02, -1.800e-02, -2.350e-01,\n",
       "       -1.000e-03, -1.680e-01, -2.800e-02,  8.240e-01, -8.000e-03,\n",
       "       -5.200e-02, -1.300e-02,  0.000e+00,  2.500e-02, -0.000e+00,\n",
       "        0.000e+00, -6.000e-03, -3.680e-01, -8.000e-03, -2.900e-02,\n",
       "       -1.610e-01, -2.120e-01, -1.060e-01,  1.000e-03, -2.700e-02,\n",
       "       -2.500e-02, -1.100e-02, -2.050e-01, -4.100e-02, -0.000e+00,\n",
       "       -5.700e-02, -5.100e-02, -9.000e-03, -3.000e-02, -4.110e-01,\n",
       "       -9.700e-02, -5.700e-02,  3.840e-01,  1.120e-01,  8.000e-02,\n",
       "        9.000e-03,  1.200e-02, -8.000e-03, -0.000e+00, -7.550e-01,\n",
       "       -5.770e-01,  1.020e-01, -2.450e-01, -2.050e-01, -4.000e-03,\n",
       "       -1.070e-01, -3.510e-01,  1.920e-01,  2.170e-01,  9.500e-02,\n",
       "       -4.850e-01, -8.000e-03,  2.000e-03,  5.600e-02, -7.440e-01,\n",
       "        8.400e-02,  0.000e+00,  0.000e+00,  2.600e-01, -2.360e-01,\n",
       "       -1.170e-01,  3.140e-01,  8.000e-03, -8.100e-02, -7.230e-01,\n",
       "        1.000e-03, -4.800e-02, -4.000e-03, -1.830e-01, -1.690e-01,\n",
       "       -7.100e-02, -1.400e-02, -1.420e-01, -2.280e-01, -2.800e-02,\n",
       "       -7.000e-03,  4.900e-02,  2.000e-02,  8.000e-03,  5.300e-01,\n",
       "        2.620e-01,  3.030e-01, -2.510e-01,  9.000e-02,  2.700e-02,\n",
       "        9.500e-02,  3.000e-03,  2.000e-03, -1.520e-01, -2.830e-01,\n",
       "        1.260e-01,  3.820e-01,  1.780e-01, -1.870e-01, -5.100e-02,\n",
       "        2.230e-01,  2.400e-01, -0.000e+00, -2.200e-02, -1.140e-01,\n",
       "        0.000e+00, -1.270e-01,  2.000e-03, -8.300e-02, -7.700e-02,\n",
       "       -3.000e-03, -2.370e-01, -3.000e-03, -1.000e-03, -2.740e-01,\n",
       "       -1.000e-03, -3.600e-02, -1.520e-01, -5.000e-03, -3.600e-02,\n",
       "       -2.000e-02, -5.300e-02, -2.000e-03, -1.760e-01, -1.260e-01,\n",
       "        1.370e-01, -5.800e-02, -1.520e-01,  2.300e-02,  4.000e-03,\n",
       "       -3.600e-02, -2.200e-01, -2.190e-01, -7.400e-02, -6.000e-02,\n",
       "       -7.600e-02, -3.510e-01, -5.400e-02, -0.000e+00,  1.340e-01,\n",
       "        1.610e-01, -7.200e-02, -7.250e-01, -1.800e-02, -1.430e-01,\n",
       "       -7.000e-03,  2.900e-02, -8.000e-03, -3.000e-03, -1.000e-03,\n",
       "       -2.800e-02, -9.900e-02, -1.250e-01, -2.300e-02,  4.000e-03,\n",
       "        0.000e+00, -3.600e-02, -0.000e+00,  3.600e-02,  1.490e-01,\n",
       "        1.190e-01, -8.200e-02, -2.340e-01,  1.070e-01,  1.390e-01,\n",
       "        2.000e-03, -1.400e-02, -3.000e-03,  1.970e-01, -7.000e-03,\n",
       "       -2.000e-03, -2.100e-02,  1.820e-01,  2.800e-02,  4.200e-01,\n",
       "        5.150e-01,  3.900e-02,  5.000e-03, -2.100e-02,  5.840e-01,\n",
       "        6.800e-02,  1.000e-02,  3.810e-01,  0.000e+00,  1.200e-02,\n",
       "        0.000e+00,  0.000e+00,  1.980e-01, -6.120e-01, -1.270e-01,\n",
       "       -1.600e-02, -5.000e-03, -2.200e-02, -2.300e-02, -2.800e-01,\n",
       "       -1.240e-01, -2.870e-01, -4.000e-03, -4.280e-01,  0.000e+00,\n",
       "       -9.000e-03, -1.000e-02, -2.000e-03,  8.940e-01, -4.100e-02,\n",
       "       -0.000e+00, -0.000e+00, -3.700e-02, -4.000e-03, -1.000e-03,\n",
       "       -4.100e-02, -1.940e-01,  1.600e-01, -2.920e-01,  3.100e-01,\n",
       "       -3.700e-02,  1.664e+00, -1.000e-03, -2.400e-02, -3.000e-03,\n",
       "       -7.600e-02, -1.700e-02, -7.400e-02,  0.000e+00, -2.600e-02,\n",
       "       -2.000e-03, -1.100e-02,  1.000e-03,  4.980e-01,  4.100e-01,\n",
       "        0.000e+00, -9.860e-01, -2.900e-01, -1.000e-03, -1.000e-01,\n",
       "       -2.000e-03, -3.000e-03,  7.800e-02, -1.500e-02, -4.300e-02,\n",
       "       -1.100e-02, -2.200e-02, -1.000e-01,  6.790e-01, -2.000e-03,\n",
       "       -1.000e-03, -7.260e-01,  1.130e-01,  6.580e-01, -0.000e+00,\n",
       "       -2.830e-01, -4.000e-02, -1.970e-01, -9.300e-02, -9.000e-02,\n",
       "       -1.290e-01,  2.670e-01,  1.780e-01, -1.000e-03, -2.220e-01,\n",
       "       -4.900e-02, -5.900e-02,  5.720e-01,  1.600e-02,  1.000e-02,\n",
       "        3.000e-03, -1.000e-03, -2.130e-01, -0.000e+00, -6.000e-03,\n",
       "       -7.000e-03, -3.200e-02, -8.000e-03, -3.000e-03, -2.600e-02,\n",
       "       -2.000e-03, -0.000e+00, -1.000e-03, -0.000e+00,  1.690e-01,\n",
       "       -7.000e-03, -4.880e-01, -1.660e-01,  6.500e-02,  4.930e-01,\n",
       "        3.400e-01,  1.640e-01,  8.810e-01,  3.170e-01,  5.060e-01,\n",
       "        6.800e-02,  2.110e-01,  2.100e-02, -9.100e-02, -7.150e-01,\n",
       "        1.590e-01,  8.100e-01,  1.700e-01,  2.900e-02,  6.580e-01,\n",
       "       -8.000e-03,  1.100e-02, -9.000e-03, -4.100e-02, -3.560e-01,\n",
       "       -3.000e-03, -4.000e-03, -2.000e-03, -0.000e+00, -4.000e-03,\n",
       "       -8.040e-01, -4.000e-03, -0.000e+00, -1.100e-02,  1.170e-01,\n",
       "        1.199e+00,  1.150e-01, -9.000e-03,  7.000e-03,  0.000e+00,\n",
       "       -1.410e-01,  2.930e-01, -5.900e-02, -1.530e-01,  3.090e-01,\n",
       "        1.990e-01, -1.235e+00, -9.000e-03, -2.900e-01, -8.000e-03,\n",
       "       -1.300e-02, -3.000e-03,  0.000e+00,  6.000e-03, -2.000e-02,\n",
       "       -2.200e-02,  6.010e-01,  3.050e-01, -1.580e-01, -8.900e-02,\n",
       "       -1.300e-02, -1.400e-02, -4.000e-02,  1.300e-02,  2.000e-03,\n",
       "        0.000e+00, -1.600e-02, -2.000e-02, -2.900e-02, -1.810e-01,\n",
       "       -2.450e-01,  3.060e-01,  1.670e-01,  9.400e-02, -5.000e-03,\n",
       "       -8.000e-03, -1.000e-03, -5.000e-03,  5.000e-03, -7.800e-02,\n",
       "        7.400e-02,  1.410e-01, -1.090e-01,  8.500e-02,  3.000e-03,\n",
       "       -2.890e-01,  1.600e-01,  2.000e-03, -6.500e-02,  0.000e+00,\n",
       "        2.100e-01,  3.600e-02, -3.000e-03, -7.000e-03, -0.000e+00,\n",
       "       -4.600e-01, -1.760e-01, -2.460e-01, -1.230e-01, -7.100e-02,\n",
       "       -2.150e-01,  5.200e-02, -1.000e-03, -1.580e-01, -6.900e-02,\n",
       "       -2.300e-02, -2.000e-03,  4.700e-01,  2.490e-01, -1.000e-03,\n",
       "        8.000e-03,  0.000e+00, -4.000e-03,  7.410e-01,  8.320e-01,\n",
       "       -4.170e-01,  3.300e-01, -2.190e-01, -2.400e-02, -3.000e-03,\n",
       "       -0.000e+00, -2.900e-02,  2.840e-01,  1.240e+00, -2.720e-01,\n",
       "        7.160e-01, -8.000e-03,  1.700e-02,  3.000e-03,  2.830e-01,\n",
       "        0.000e+00,  0.000e+00,  0.000e+00,  0.000e+00, -1.100e-02,\n",
       "       -1.000e-01, -2.040e-01, -5.600e-02, -1.900e-02, -3.000e-03,\n",
       "       -5.750e-01, -1.000e-02, -1.300e-02, -3.000e-03, -7.310e-01,\n",
       "       -1.100e-02, -0.000e+00, -1.550e-01, -3.000e-03,  3.900e-02,\n",
       "        2.200e-02,  0.000e+00, -2.400e-01, -2.000e-03, -3.900e-02,\n",
       "       -1.000e-02,  1.800e-01,  1.000e-03,  4.510e-01, -2.000e-03,\n",
       "       -2.000e-03, -1.000e-03, -2.000e-03, -1.900e-02, -1.000e-03,\n",
       "       -1.900e-02, -1.200e-02, -3.000e-03, -3.870e-01,  6.920e-01,\n",
       "        3.470e-01, -2.400e-02, -4.500e-01, -1.470e-01, -3.000e-02,\n",
       "       -1.000e-03, -1.000e-03, -1.960e-01, -6.500e-02, -4.100e-01,\n",
       "       -6.000e-03, -1.500e-01, -6.680e-01,  2.520e-01, -1.850e-01,\n",
       "       -5.000e-03, -1.110e-01,  1.452e+00,  3.600e-02, -1.190e-01,\n",
       "        8.770e-01, -7.000e-03, -1.406e+00, -3.140e-01, -9.000e-03,\n",
       "       -4.400e-02,  6.550e-01,  2.000e-02, -2.900e-02, -1.070e-01,\n",
       "       -2.150e-01, -2.200e-02, -3.000e-03, -2.840e-01, -1.070e-01,\n",
       "        2.140e-01,  7.800e-02, -5.800e-02, -9.840e-01, -6.300e-02,\n",
       "       -9.400e-02,  1.200e-02,  5.000e-03,  0.000e+00, -3.200e-02,\n",
       "       -1.800e-01, -2.450e-01,  5.570e-01, -5.000e-02,  2.110e-01,\n",
       "       -0.000e+00, -0.000e+00, -3.000e-03,  1.000e-03, -0.000e+00,\n",
       "       -3.600e-02, -1.500e-02, -4.050e-01, -2.080e-01, -1.300e-01,\n",
       "       -6.000e-03, -7.000e-03, -4.000e-03,  0.000e+00, -3.000e-03,\n",
       "       -6.000e-03,  2.000e-03,  1.000e-03, -7.000e-03, -1.300e-02,\n",
       "       -2.500e-02, -6.000e-03,  0.000e+00, -3.600e-01, -0.000e+00,\n",
       "       -6.060e-01,  9.500e-02,  2.550e-01,  1.840e-01,  0.000e+00,\n",
       "        8.700e-02,  0.000e+00, -2.000e-03, -1.000e-02, -1.300e-02,\n",
       "        3.930e-01,  4.030e-01,  6.130e-01, -3.000e-03, -2.000e-03,\n",
       "       -9.000e-03, -6.700e-02, -7.000e-01,  8.500e-02,  1.000e-03,\n",
       "       -1.000e-03,  3.300e-02, -2.440e-01,  4.390e-01, -2.800e-02,\n",
       "       -5.000e-03, -0.000e+00,  2.220e-01, -2.000e-02,  2.920e-01,\n",
       "        2.970e-01, -2.080e-01,  1.380e-01,  1.640e-01,  1.200e-02,\n",
       "        6.700e-01, -8.000e-02,  3.300e-01,  3.790e-01, -6.570e-01,\n",
       "       -7.000e-02, -9.480e-01,  3.130e-01, -1.239e+00,  1.158e+00,\n",
       "       -7.300e-02, -1.990e-01,  1.529e+00,  4.080e-01, -2.450e-01,\n",
       "        4.870e-01, -8.650e-01,  7.600e-01,  1.920e-01, -1.638e+00,\n",
       "        6.500e-02,  1.940e-01, -6.000e-03])"
      ]
     },
     "execution_count": 134,
     "metadata": {},
     "output_type": "execute_result"
    }
   ],
   "source": [
    "model.coef_[0].round(3)"
   ]
  },
  {
   "cell_type": "code",
   "execution_count": 135,
   "id": "46c671a3",
   "metadata": {},
   "outputs": [],
   "source": [
    "y_pred = model.predict_proba(X_val)[:, 1]\n"
   ]
  },
  {
   "cell_type": "code",
   "execution_count": 136,
   "id": "f69a35ea",
   "metadata": {},
   "outputs": [],
   "source": [
    "decision = (y_pred >= 0.5)"
   ]
  },
  {
   "cell_type": "code",
   "execution_count": 137,
   "id": "a1a9f170",
   "metadata": {
    "scrolled": true
   },
   "outputs": [
    {
     "data": {
      "text/plain": [
       "0.9387326898866974"
      ]
     },
     "execution_count": 137,
     "metadata": {},
     "output_type": "execute_result"
    }
   ],
   "source": [
    "accuracy = (y_val == decision).mean()\n",
    "accuracy"
   ]
  },
  {
   "cell_type": "markdown",
   "id": "0fcc1b40",
   "metadata": {},
   "source": [
    "### Question 5 \n",
    "\n",
    "* Let's find the least useful feature using the *feature elimination* technique.\n",
    "* Train a model with all these features (using the same parameters as in Q4).\n",
    "* Now exclude each feature from this set and train a model without it. Record the accuracy for each model.\n",
    "* For each feature, calculate the difference between the original accuracy and the accuracy without the feature. \n",
    "\n",
    "Which of following feature has the smallest difference?\n",
    "\n",
    "- `year`\n",
    "- `engine_hp`\n",
    "- `transmission_type`\n",
    "- `city_mpg`\n",
    "\n",
    "> **Note**: the difference doesn't have to be positive\n",
    "\n",
    "answer: transmission_type"
   ]
  },
  {
   "cell_type": "code",
   "execution_count": 141,
   "id": "872cfb5d",
   "metadata": {},
   "outputs": [
    {
     "name": "stdout",
     "output_type": "stream",
     "text": [
      "f_excl='year': accuracy=0.9387326898866974 , acc_minus diff: -0.9651699538396952\n",
      "f_excl='engine_hp': accuracy=0.9387326898866974 , acc_minus diff: 1.4687368862777994\n",
      "f_excl='transmission_type': accuracy=0.9387326898866974 , acc_minus diff: -0.5874947545111198\n",
      "f_excl='city_mpg': accuracy=0.9387326898866974 , acc_minus diff: -0.7553503986571508\n"
     ]
    }
   ],
   "source": [
    "fs_excl = ['year',    'engine_hp',    'transmission_type',    'city_mpg'] # features to exclude from model\n",
    "\n",
    "model = LogisticRegression(solver='liblinear', C=10, max_iter=1000, random_state=42)\n",
    "f_lst = categorical + numerical\n",
    "\n",
    "for f_excl in fs_excl:\n",
    "    f_lst_minus= f_lst.copy()\n",
    "    f_lst_minus.remove(f_excl)\n",
    "  \n",
    "    train_dict = df_train[f_lst_minus].to_dict(orient='records')\n",
    "    X_train = dv.fit_transform(train_dict)\n",
    "\n",
    "    val_dict = df_val[f_lst_minus].to_dict(orient='records')\n",
    "    X_val = dv.transform(val_dict)\n",
    "    model.fit(X_train, y_train)\n",
    "    y_pred = model.predict_proba(X_val)[:, 1]\n",
    "    decision = (y_pred >= 0.5)\n",
    "    acc_minus = (y_val == decision).mean()\n",
    "    print(f'{f_excl=}: {accuracy=} , acc_minus diff: {(accuracy - acc_minus)*100}')\n",
    "\n",
    "\n",
    "\n"
   ]
  },
  {
   "cell_type": "markdown",
   "id": "6c7deb86",
   "metadata": {},
   "source": [
    "### Question 6\n",
    "\n",
    "* For this question, we'll see how to use a linear regression model from Scikit-Learn.\n",
    "* We'll need to use the original column `price`. Apply the logarithmic transformation to this column.\n",
    "* Fit the Ridge regression model on the training data with a solver `'sag'`. Set the seed to `42`.\n",
    "* This model also has a parameter `alpha`. Let's try the following values: `[0, 0.01, 0.1, 1, 10]`.\n",
    "* Round your RMSE scores to 3 decimal digits.\n",
    "\n",
    "Which of these alphas leads to the best RMSE on the validation set?\n",
    "\n",
    "- 0\n",
    "- 0.01\n",
    "- 0.1\n",
    "- 1\n",
    "- 10"
   ]
  },
  {
   "cell_type": "code",
   "execution_count": 143,
   "id": "f2f8fe6d",
   "metadata": {
    "scrolled": true
   },
   "outputs": [
    {
     "ename": "NameError",
     "evalue": "name 'numericalalpha' is not defined",
     "output_type": "error",
     "traceback": [
      "\u001b[0;31m---------------------------------------------------------------------------\u001b[0m",
      "\u001b[0;31mNameError\u001b[0m                                 Traceback (most recent call last)",
      "Cell \u001b[0;32mIn[143], line 1\u001b[0m\n\u001b[0;32m----> 1\u001b[0m f_lst \u001b[38;5;241m=\u001b[39m categorical \u001b[38;5;241m+\u001b[39m numericalalpha\n\u001b[1;32m      2\u001b[0m alphas \u001b[38;5;241m=\u001b[39m [\u001b[38;5;241m0\u001b[39m, \u001b[38;5;241m0.01\u001b[39m, \u001b[38;5;241m0.1\u001b[39m, \u001b[38;5;241m1\u001b[39m, \u001b[38;5;241m10\u001b[39m]\n\u001b[1;32m      3\u001b[0m \u001b[38;5;28;01mfor\u001b[39;00m alpha \u001b[38;5;129;01min\u001b[39;00m alphas:\n",
      "\u001b[0;31mNameError\u001b[0m: name 'numericalalpha' is not defined"
     ]
    }
   ],
   "source": [
    "\n",
    "f_lst = categorical + numericalalpha\n",
    "alphas = [0, 0.01, 0.1, 1, 10]\n",
    "for alpha in alphas:\n",
    "    model = LogisticRegression(solver='sag', C=10, max_iter=1000, random_state=42, alpha=alpha)\n",
    "    train_dict = df_train[f_lst].to_dict(orient='records')\n",
    "    X_train = dv.fit_transform(train_dict)\n",
    "\n",
    "    val_dict = df_val[f_lst].to_dict(orient='records')\n",
    "    X_val = dv.transform(val_dict)\n",
    "    model.fit(X_train, y_train)\n",
    "    y_pred = model.predict_proba(X_val)[:, 1]\n",
    "    decision = (y_pred >= 0.5)\n",
    "    accuracy = (y_val == decision).mean()\n",
    "    print(f'{accuracy=}')\n"
   ]
  }
 ],
 "metadata": {
  "kernelspec": {
   "display_name": "Python 3 (ipykernel)",
   "language": "python",
   "name": "python3"
  },
  "language_info": {
   "codemirror_mode": {
    "name": "ipython",
    "version": 3
   },
   "file_extension": ".py",
   "mimetype": "text/x-python",
   "name": "python",
   "nbconvert_exporter": "python",
   "pygments_lexer": "ipython3",
   "version": "3.11.4"
  }
 },
 "nbformat": 4,
 "nbformat_minor": 5
}
